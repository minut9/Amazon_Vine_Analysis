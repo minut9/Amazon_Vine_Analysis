{
  "nbformat": 4,
  "nbformat_minor": 0,
  "metadata": {
    "colab": {
      "name": "Vine_Review_Analysis.ipynb",
      "provenance": [],
      "collapsed_sections": []
    },
    "kernelspec": {
      "name": "python3",
      "display_name": "Python 3"
    },
    "language_info": {
      "name": "python"
    }
  },
  "cells": [
    {
      "cell_type": "code",
      "execution_count": 2,
      "metadata": {
        "colab": {
          "base_uri": "https://localhost:8080/"
        },
        "id": "5MP58U6cvKd7",
        "outputId": "125ab5cc-1de9-458d-beac-88bad9928e16"
      },
      "outputs": [
        {
          "output_type": "stream",
          "name": "stdout",
          "text": [
            "\r0% [Working]\r            \rHit:1 https://cloud.r-project.org/bin/linux/ubuntu bionic-cran40/ InRelease\n",
            "Ign:2 https://developer.download.nvidia.com/compute/cuda/repos/ubuntu1804/x86_64  InRelease\n",
            "Hit:3 http://archive.ubuntu.com/ubuntu bionic InRelease\n",
            "Hit:4 http://security.ubuntu.com/ubuntu bionic-security InRelease\n",
            "Hit:5 http://ppa.launchpad.net/c2d4u.team/c2d4u4.0+/ubuntu bionic InRelease\n",
            "Ign:6 https://developer.download.nvidia.com/compute/machine-learning/repos/ubuntu1804/x86_64  InRelease\n",
            "Hit:7 https://developer.download.nvidia.com/compute/cuda/repos/ubuntu1804/x86_64  Release\n",
            "Hit:8 https://developer.download.nvidia.com/compute/machine-learning/repos/ubuntu1804/x86_64  Release\n",
            "Hit:9 http://archive.ubuntu.com/ubuntu bionic-updates InRelease\n",
            "Hit:10 http://archive.ubuntu.com/ubuntu bionic-backports InRelease\n",
            "Hit:11 http://ppa.launchpad.net/cran/libgit2/ubuntu bionic InRelease\n",
            "Hit:12 http://ppa.launchpad.net/deadsnakes/ppa/ubuntu bionic InRelease\n",
            "Hit:13 http://ppa.launchpad.net/graphics-drivers/ppa/ubuntu bionic InRelease\n",
            "Reading package lists... Done\n"
          ]
        }
      ],
      "source": [
        "import os\n",
        "# Find the latest version of spark 3.0 from http://www.apache.org/dist/spark/ and enter as the spark version\n",
        "# For example:\n",
        "# spark_version = 'spark-3.2.1'\n",
        "spark_version = 'spark-3.2.1'\n",
        "os.environ['SPARK_VERSION']=spark_version\n",
        "\n",
        "# Install Spark and Java\n",
        "!apt-get update\n",
        "!apt-get install openjdk-11-jdk-headless -qq > /dev/null\n",
        "!wget -q http://www.apache.org/dist/spark/$SPARK_VERSION/$SPARK_VERSION-bin-hadoop2.7.tgz\n",
        "!tar xf $SPARK_VERSION-bin-hadoop2.7.tgz\n",
        "!pip install -q findspark\n",
        "\n",
        "# Set Environment Variables\n",
        "import os\n",
        "os.environ[\"JAVA_HOME\"] = \"/usr/lib/jvm/java-11-openjdk-amd64\"\n",
        "os.environ[\"SPARK_HOME\"] = f\"/content/{spark_version}-bin-hadoop2.7\"\n",
        "\n",
        "# Start a SparkSession\n",
        "import findspark\n",
        "findspark.init()"
      ]
    },
    {
      "cell_type": "code",
      "source": [
        "# Download the Postgres driver that will allow Spark to interact with Postgres.\n",
        "!wget https://jdbc.postgresql.org/download/postgresql-42.2.16.jar"
      ],
      "metadata": {
        "colab": {
          "base_uri": "https://localhost:8080/"
        },
        "id": "OwEP583xvWku",
        "outputId": "3311d410-9523-4252-9f84-ce76cf1a085a"
      },
      "execution_count": 3,
      "outputs": [
        {
          "output_type": "stream",
          "name": "stdout",
          "text": [
            "--2022-02-23 18:00:52--  https://jdbc.postgresql.org/download/postgresql-42.2.16.jar\n",
            "Resolving jdbc.postgresql.org (jdbc.postgresql.org)... 72.32.157.228, 2001:4800:3e1:1::228\n",
            "Connecting to jdbc.postgresql.org (jdbc.postgresql.org)|72.32.157.228|:443... connected.\n",
            "HTTP request sent, awaiting response... 200 OK\n",
            "Length: 1002883 (979K) [application/java-archive]\n",
            "Saving to: ‘postgresql-42.2.16.jar’\n",
            "\n",
            "postgresql-42.2.16. 100%[===================>] 979.38K  --.-KB/s    in 0.1s    \n",
            "\n",
            "2022-02-23 18:00:52 (6.50 MB/s) - ‘postgresql-42.2.16.jar’ saved [1002883/1002883]\n",
            "\n"
          ]
        }
      ]
    },
    {
      "cell_type": "code",
      "source": [
        "from pyspark.sql import SparkSession\n",
        "spark = SparkSession.builder.appName(\"M16-Amazon-Challenge\").config(\"spark.driver.extraClassPath\",\"/content/postgresql-42.2.16.jar\").getOrCreate()"
      ],
      "metadata": {
        "id": "V1Qrg3iJvqe5"
      },
      "execution_count": 4,
      "outputs": []
    },
    {
      "cell_type": "code",
      "source": [
        "from pyspark import SparkFiles\n",
        "url = \"https://s3.amazonaws.com/amazon-reviews-pds/tsv/amazon_reviews_us_Music_v1_00.tsv.gz\"\n",
        "spark.sparkContext.addFile(url)\n",
        "df = spark.read.csv(SparkFiles.get(\"amazon_reviews_us_Music_v1_00.tsv.gz\"), sep=\"\\t\", header=True, inferSchema=True)\n",
        "df.show()"
      ],
      "metadata": {
        "colab": {
          "base_uri": "https://localhost:8080/"
        },
        "id": "IcQt-8n4vwG3",
        "outputId": "14ebe31b-7499-48b0-ed32-b1f8654d9329"
      },
      "execution_count": 5,
      "outputs": [
        {
          "output_type": "stream",
          "name": "stdout",
          "text": [
            "+-----------+-----------+--------------+----------+--------------+--------------------+----------------+-----------+-------------+-----------+----+-----------------+--------------------+--------------------+-----------+\n",
            "|marketplace|customer_id|     review_id|product_id|product_parent|       product_title|product_category|star_rating|helpful_votes|total_votes|vine|verified_purchase|     review_headline|         review_body|review_date|\n",
            "+-----------+-----------+--------------+----------+--------------+--------------------+----------------+-----------+-------------+-----------+----+-----------------+--------------------+--------------------+-----------+\n",
            "|         US|   10140119|R3LI5TRP3YIDQL|B00TXH4OLC|     384427924|Whatever's for Us...|           Music|          5|            0|          0|   N|                Y|          Five Stars|Love this CD alon...| 2015-08-31|\n",
            "|         US|   27664622|R3LGC3EKEG84PX|B00B6QXN6U|     831769051|Same Trailer Diff...|           Music|          5|            0|          0|   N|                Y|A new fave in our...|This is the album...| 2015-08-31|\n",
            "|         US|   45946560| R9PYL3OYH55QY|B001GCZXW6|      14067376| Soaring (Jazz Club)|           Music|          5|            0|          1|   N|                Y|          Five Stars|  Excellent / thanks| 2015-08-31|\n",
            "|         US|   15146326|R3PWBAWUS4NT0Q|B000003EK6|     566295619|     CARIBBEAN PARTY|           Music|          3|            0|          0|   N|                Y|         Three Stars|Nice variety of c...| 2015-08-31|\n",
            "|         US|   16794688|R15LYP3O51UU9E|B00N1F0BKK|     210426072|         Pain Killer|           Music|          5|            0|          0|   N|                Y|          Five Stars|Purchased as a gi...| 2015-08-31|\n",
            "|         US|   32203364|R1AD7L0CC3DSRI|B00V7KAO7Q|     360249504|A Thoughtiverse U...|           Music|          5|            0|          0|   N|                Y|Definitely worth ...|Really enjoyed th...| 2015-08-31|\n",
            "|         US|    1194276|R32FE8Y45QV434|B000094Q4P|      20972283|Comfort of Her Wings|           Music|          5|            0|          0|   N|                Y|          Five Stars|            Great CD| 2015-08-31|\n",
            "|         US|   45813052|R3NM4MZ4XWL43Q|B00JMK0P1I|     378049560|Sleep Soundly CD ...|           Music|          5|            1|          2|   N|                Y|          Five Stars|       Excellent CD!| 2015-08-31|\n",
            "|         US|   12795687|R3H4FXX6Q7I37D|B008OW1S3O|     141620702|     An Awesome Wave|           Music|          4|            0|          0|   N|                Y|          Four Stars|                nice| 2015-08-31|\n",
            "|         US|   36673840|R30L5PET7LFFDC|B00VI2L3L4|     920557135|          Blurryface|           Music|          5|            1|          1|   N|                Y|        Outstanding!|Outstanding music...| 2015-08-31|\n",
            "|         US|   49453576|  REFRE1LEKLAF|B0000041EV|     683128964|Mozart For Mother...|           Music|          4|            1|          1|   N|                Y|          Four Stars|      quite relaxing| 2015-08-31|\n",
            "|         US|    3285047|R3JTJ5EQN74E9H|B00005YW4H|     268461622|   Come Away with Me|           Music|          5|            0|          0|   N|                Y|          Five Stars|I love this CD.  ...| 2015-08-31|\n",
            "|         US|   24471201|R1W2F091LCOAW5|B00Q9KEZV0|     444090572| Tomorrow Is My Turn|           Music|          5|            0|          0|   N|                Y|FIve Stars and Th...|Rhiannon Giddens ...| 2015-08-31|\n",
            "|         US|   28049396| RYUMFQRRB1FNM|B00GFXRKHW|     482597726|       The Outsiders|           Music|          3|            0|          0|   N|                Y|         Three Stars|Wrecking Ball is ...| 2015-08-31|\n",
            "|         US|   41137196| RHCS6VVXWV3Q3|B004L3AQ10|     609457123|  The Lincoln Lawyer|           Music|          5|            0|          0|   N|                Y|          Five Stars|I was pleased wit...| 2015-08-31|\n",
            "|         US|   43305401|R35UL1YZ2142SL|B0000025PM|     125399885|Bach: Goldberg Va...|           Music|          5|            0|          0|   N|                Y|   The Creative Flow|The music that in...| 2015-08-31|\n",
            "|         US|   50808489|  RU1O6QD1LEBB|B00701QUN8|     144457491|Quiet Riot - Grea...|           Music|          5|            0|          0|   N|                Y|          Five Stars|   Excellent CD&#62;| 2015-08-31|\n",
            "|         US|   15536614|R36RXVL3XIZFH7|B003UJC2QI|     207971309|Love Or Money/Lov...|           Music|          5|            0|          0|   N|                N|    Great Pop Single|Love Or Money by ...| 2015-08-31|\n",
            "|         US|   32536909|R16O7SHYHLEYA1|B00LGA16J2|     760666287|Jonas Kaufmann - ...|           Music|          5|            0|          0|   N|                Y|          Five Stars|      Just splendid!| 2015-08-31|\n",
            "|         US|   51160312|R1Y5GX65Z2V9BG|B00ZGVMLLE|      37408836|        Clockworking|           Music|          5|            0|          0|   N|                N|Glorious Glorious...|One of my favorit...| 2015-08-31|\n",
            "+-----------+-----------+--------------+----------+--------------+--------------------+----------------+-----------+-------------+-----------+----+-----------------+--------------------+--------------------+-----------+\n",
            "only showing top 20 rows\n",
            "\n"
          ]
        }
      ]
    },
    {
      "cell_type": "code",
      "source": [
        "from pyspark.sql.functions import to_date\n",
        "# Read in the Review dataset as a DataFrame\n",
        "data_df = df.dropna()"
      ],
      "metadata": {
        "id": "72W_O1P1v4uF"
      },
      "execution_count": 6,
      "outputs": []
    },
    {
      "cell_type": "code",
      "source": [
        "vine_df = data_df.select([\"review_id\",\"star_rating\",\"helpful_votes\",\"total_votes\",\"vine\",\"verified_purchase\"])\n",
        "vine_df.show()"
      ],
      "metadata": {
        "colab": {
          "base_uri": "https://localhost:8080/"
        },
        "id": "IdyGML78wNTe",
        "outputId": "373047a1-e18e-4ce1-effe-71daf6b39dfe"
      },
      "execution_count": 7,
      "outputs": [
        {
          "output_type": "stream",
          "name": "stdout",
          "text": [
            "+--------------+-----------+-------------+-----------+----+-----------------+\n",
            "|     review_id|star_rating|helpful_votes|total_votes|vine|verified_purchase|\n",
            "+--------------+-----------+-------------+-----------+----+-----------------+\n",
            "|R3LI5TRP3YIDQL|          5|            0|          0|   N|                Y|\n",
            "|R3LGC3EKEG84PX|          5|            0|          0|   N|                Y|\n",
            "| R9PYL3OYH55QY|          5|            0|          1|   N|                Y|\n",
            "|R3PWBAWUS4NT0Q|          3|            0|          0|   N|                Y|\n",
            "|R15LYP3O51UU9E|          5|            0|          0|   N|                Y|\n",
            "|R1AD7L0CC3DSRI|          5|            0|          0|   N|                Y|\n",
            "|R32FE8Y45QV434|          5|            0|          0|   N|                Y|\n",
            "|R3NM4MZ4XWL43Q|          5|            1|          2|   N|                Y|\n",
            "|R3H4FXX6Q7I37D|          4|            0|          0|   N|                Y|\n",
            "|R30L5PET7LFFDC|          5|            1|          1|   N|                Y|\n",
            "|  REFRE1LEKLAF|          4|            1|          1|   N|                Y|\n",
            "|R3JTJ5EQN74E9H|          5|            0|          0|   N|                Y|\n",
            "|R1W2F091LCOAW5|          5|            0|          0|   N|                Y|\n",
            "| RYUMFQRRB1FNM|          3|            0|          0|   N|                Y|\n",
            "| RHCS6VVXWV3Q3|          5|            0|          0|   N|                Y|\n",
            "|R35UL1YZ2142SL|          5|            0|          0|   N|                Y|\n",
            "|  RU1O6QD1LEBB|          5|            0|          0|   N|                Y|\n",
            "|R36RXVL3XIZFH7|          5|            0|          0|   N|                N|\n",
            "|R16O7SHYHLEYA1|          5|            0|          0|   N|                Y|\n",
            "|R1Y5GX65Z2V9BG|          5|            0|          0|   N|                N|\n",
            "+--------------+-----------+-------------+-----------+----+-----------------+\n",
            "only showing top 20 rows\n",
            "\n"
          ]
        }
      ]
    },
    {
      "cell_type": "markdown",
      "source": [
        "1. Filter the data and create a new DataFrame or table to retrieve all the rows where the total_votes count is equal to or greater than 20 to pick reviews that are more likely to be helpful and to avoid having division by zero errors later on."
      ],
      "metadata": {
        "id": "7jqxTRNFwVWO"
      }
    },
    {
      "cell_type": "code",
      "source": [
        "#1. Filter total votes >= 20\n",
        "vote_count_greater20 = vine_df.filter(\"total_votes >= 20\")\n",
        "vote_count_greater20.show()"
      ],
      "metadata": {
        "colab": {
          "base_uri": "https://localhost:8080/"
        },
        "id": "B1YA-PbZwaMY",
        "outputId": "266a3aee-160e-46d1-e7ed-2bf2a79ff483"
      },
      "execution_count": 8,
      "outputs": [
        {
          "output_type": "stream",
          "name": "stdout",
          "text": [
            "+--------------+-----------+-------------+-----------+----+-----------------+\n",
            "|     review_id|star_rating|helpful_votes|total_votes|vine|verified_purchase|\n",
            "+--------------+-----------+-------------+-----------+----+-----------------+\n",
            "|R2SHXRL6SL1GC9|          3|           25|         26|   N|                Y|\n",
            "|R2ZC033X86YOY8|          5|           25|         26|   N|                N|\n",
            "|R2736RJGCOSL80|          5|           19|         20|   N|                Y|\n",
            "| RRY5DJ6J9BKAX|          5|           19|         21|   N|                Y|\n",
            "|R2P4PJJ2ROTPBM|          5|           46|         48|   N|                N|\n",
            "| RO8RAEGB66BKR|          4|           46|         46|   N|                N|\n",
            "| RRFZ7QZTRJC59|          5|          292|        300|   N|                N|\n",
            "| RFN4PNRUD1UW2|          4|           21|         22|   N|                N|\n",
            "| RO7EBJEP7IHIX|          5|           26|         26|   N|                N|\n",
            "|R1CVS4MK9RTNNP|          2|           11|         22|   N|                N|\n",
            "| REIWYIGFMEKEV|          5|           26|         30|   N|                Y|\n",
            "|R2FV27WWRWROZU|          4|           26|         27|   N|                N|\n",
            "|R30I82JFOSSJMA|          3|           14|         20|   N|                Y|\n",
            "|R2FUEC06SD2TZ1|          1|            2|         24|   N|                Y|\n",
            "|R16QHOYRY9QLQU|          5|           36|         39|   N|                N|\n",
            "|R1CQON45M11K9Q|          5|          125|        131|   N|                Y|\n",
            "|R1WYWVRXAGND36|          5|           24|         25|   N|                N|\n",
            "| R6RZ581R948P7|          1|           29|         42|   N|                Y|\n",
            "| RBRZ21U9GFORT|          5|           28|         33|   N|                N|\n",
            "|R2Y6OCM9IEH9QO|          1|           12|         21|   N|                N|\n",
            "+--------------+-----------+-------------+-----------+----+-----------------+\n",
            "only showing top 20 rows\n",
            "\n"
          ]
        }
      ]
    },
    {
      "cell_type": "markdown",
      "source": [
        "2. Filter the new DataFrame or table created in Step 1 and create a new DataFrame or table to retrieve all the rows where the number of helpful_votes divided by total_votes is equal to or greater than 50%."
      ],
      "metadata": {
        "id": "PXYzbDaVwhb4"
      }
    },
    {
      "cell_type": "code",
      "source": [
        "#2. Filter to retrieve helpful_votes/total_votes >= 50\n",
        "vote_count_greater50 = vote_count_greater20.filter(\"(helpful_votes/total_votes)>=0.5\")\n",
        "vote_count_greater50.show()"
      ],
      "metadata": {
        "colab": {
          "base_uri": "https://localhost:8080/"
        },
        "id": "t9u6afNiwjpY",
        "outputId": "52afac2e-b450-4c65-af34-d0793a11baba"
      },
      "execution_count": 9,
      "outputs": [
        {
          "output_type": "stream",
          "name": "stdout",
          "text": [
            "+--------------+-----------+-------------+-----------+----+-----------------+\n",
            "|     review_id|star_rating|helpful_votes|total_votes|vine|verified_purchase|\n",
            "+--------------+-----------+-------------+-----------+----+-----------------+\n",
            "|R2SHXRL6SL1GC9|          3|           25|         26|   N|                Y|\n",
            "|R2ZC033X86YOY8|          5|           25|         26|   N|                N|\n",
            "|R2736RJGCOSL80|          5|           19|         20|   N|                Y|\n",
            "| RRY5DJ6J9BKAX|          5|           19|         21|   N|                Y|\n",
            "|R2P4PJJ2ROTPBM|          5|           46|         48|   N|                N|\n",
            "| RO8RAEGB66BKR|          4|           46|         46|   N|                N|\n",
            "| RRFZ7QZTRJC59|          5|          292|        300|   N|                N|\n",
            "| RFN4PNRUD1UW2|          4|           21|         22|   N|                N|\n",
            "| RO7EBJEP7IHIX|          5|           26|         26|   N|                N|\n",
            "|R1CVS4MK9RTNNP|          2|           11|         22|   N|                N|\n",
            "| REIWYIGFMEKEV|          5|           26|         30|   N|                Y|\n",
            "|R2FV27WWRWROZU|          4|           26|         27|   N|                N|\n",
            "|R30I82JFOSSJMA|          3|           14|         20|   N|                Y|\n",
            "|R16QHOYRY9QLQU|          5|           36|         39|   N|                N|\n",
            "|R1CQON45M11K9Q|          5|          125|        131|   N|                Y|\n",
            "|R1WYWVRXAGND36|          5|           24|         25|   N|                N|\n",
            "| R6RZ581R948P7|          1|           29|         42|   N|                Y|\n",
            "| RBRZ21U9GFORT|          5|           28|         33|   N|                N|\n",
            "|R2Y6OCM9IEH9QO|          1|           12|         21|   N|                N|\n",
            "|R26I5D95TEK226|          5|           52|         56|   N|                N|\n",
            "+--------------+-----------+-------------+-----------+----+-----------------+\n",
            "only showing top 20 rows\n",
            "\n"
          ]
        }
      ]
    },
    {
      "cell_type": "markdown",
      "source": [
        "3. Filter the DataFrame or table created in Step 2, and create a new DataFrame or table that retrieves all the rows where a review was written as part of the Vine program (paid), vine == 'Y'."
      ],
      "metadata": {
        "id": "iLWvLLxLwrHI"
      }
    },
    {
      "cell_type": "code",
      "source": [
        "#3. paid vine Reviews\n",
        "paid_reviews = vote_count_greater50.filter(\"vine == 'Y'\")\n",
        "paid_reviews.show()"
      ],
      "metadata": {
        "colab": {
          "base_uri": "https://localhost:8080/"
        },
        "id": "3GWsS044wsta",
        "outputId": "d58c4208-d971-4631-f2bd-b760cea80671"
      },
      "execution_count": 10,
      "outputs": [
        {
          "output_type": "stream",
          "name": "stdout",
          "text": [
            "+--------------+-----------+-------------+-----------+----+-----------------+\n",
            "|     review_id|star_rating|helpful_votes|total_votes|vine|verified_purchase|\n",
            "+--------------+-----------+-------------+-----------+----+-----------------+\n",
            "| R84VUCDBCI29U|          3|           18|         28|   Y|                N|\n",
            "| R4V3ICFDTIDIF|          4|           20|         21|   Y|                N|\n",
            "|R1JZ0JAPW83WFS|          4|           54|         58|   Y|                N|\n",
            "|R1XH7EA97FAVP7|          3|           35|         44|   Y|                N|\n",
            "|R1482JAU1ZR7QH|          4|           15|         22|   Y|                N|\n",
            "|R1GGYGVTHP84DG|          4|           25|         27|   Y|                N|\n",
            "| RXGU9DSKZJSP0|          3|           21|         22|   Y|                N|\n",
            "+--------------+-----------+-------------+-----------+----+-----------------+\n",
            "\n"
          ]
        }
      ]
    },
    {
      "cell_type": "markdown",
      "source": [
        "4. Repeat Step 3, but this time retrieve all the rows where the review was not part of the Vine program (unpaid), vine == 'N'."
      ],
      "metadata": {
        "id": "vRYT3SHPw3Gt"
      }
    },
    {
      "cell_type": "code",
      "source": [
        "#4 paid vine Reviews\n",
        "unpaid_reviews = vote_count_greater50.filter(\"vine == 'N'\")\n",
        "unpaid_reviews.show()"
      ],
      "metadata": {
        "colab": {
          "base_uri": "https://localhost:8080/"
        },
        "id": "oLCfaKpGxEeK",
        "outputId": "9d77fc48-d366-495f-be6b-1c034fe83484"
      },
      "execution_count": 11,
      "outputs": [
        {
          "output_type": "stream",
          "name": "stdout",
          "text": [
            "+--------------+-----------+-------------+-----------+----+-----------------+\n",
            "|     review_id|star_rating|helpful_votes|total_votes|vine|verified_purchase|\n",
            "+--------------+-----------+-------------+-----------+----+-----------------+\n",
            "|R2SHXRL6SL1GC9|          3|           25|         26|   N|                Y|\n",
            "|R2ZC033X86YOY8|          5|           25|         26|   N|                N|\n",
            "|R2736RJGCOSL80|          5|           19|         20|   N|                Y|\n",
            "| RRY5DJ6J9BKAX|          5|           19|         21|   N|                Y|\n",
            "|R2P4PJJ2ROTPBM|          5|           46|         48|   N|                N|\n",
            "| RO8RAEGB66BKR|          4|           46|         46|   N|                N|\n",
            "| RRFZ7QZTRJC59|          5|          292|        300|   N|                N|\n",
            "| RFN4PNRUD1UW2|          4|           21|         22|   N|                N|\n",
            "| RO7EBJEP7IHIX|          5|           26|         26|   N|                N|\n",
            "|R1CVS4MK9RTNNP|          2|           11|         22|   N|                N|\n",
            "| REIWYIGFMEKEV|          5|           26|         30|   N|                Y|\n",
            "|R2FV27WWRWROZU|          4|           26|         27|   N|                N|\n",
            "|R30I82JFOSSJMA|          3|           14|         20|   N|                Y|\n",
            "|R16QHOYRY9QLQU|          5|           36|         39|   N|                N|\n",
            "|R1CQON45M11K9Q|          5|          125|        131|   N|                Y|\n",
            "|R1WYWVRXAGND36|          5|           24|         25|   N|                N|\n",
            "| R6RZ581R948P7|          1|           29|         42|   N|                Y|\n",
            "| RBRZ21U9GFORT|          5|           28|         33|   N|                N|\n",
            "|R2Y6OCM9IEH9QO|          1|           12|         21|   N|                N|\n",
            "|R26I5D95TEK226|          5|           52|         56|   N|                N|\n",
            "+--------------+-----------+-------------+-----------+----+-----------------+\n",
            "only showing top 20 rows\n",
            "\n"
          ]
        }
      ]
    },
    {
      "cell_type": "markdown",
      "source": [
        "5. Determine the total number of reviews, the number of 5-star reviews, and the percentage of 5-star reviews for the two types of review (paid vs unpaid)."
      ],
      "metadata": {
        "id": "A3VJgvJFxMru"
      }
    },
    {
      "cell_type": "code",
      "source": [
        "# Total Reviews\n",
        "total_reviews = vote_count_greater50.count()\n",
        "total_reviews"
      ],
      "metadata": {
        "colab": {
          "base_uri": "https://localhost:8080/"
        },
        "id": "j-Fqe2n1xPCA",
        "outputId": "435637ff-4060-4df1-ab69-d19d48672253"
      },
      "execution_count": 12,
      "outputs": [
        {
          "output_type": "execute_result",
          "data": {
            "text/plain": [
              "105969"
            ]
          },
          "metadata": {},
          "execution_count": 12
        }
      ]
    },
    {
      "cell_type": "code",
      "source": [
        "# Total PAID vine\n",
        "total_paid_reviews = vote_count_greater50.filter(\"vine == 'Y'\")\n",
        "total_paid_reviews_count = total_paid_reviews.count()\n",
        "total_paid_reviews_count"
      ],
      "metadata": {
        "colab": {
          "base_uri": "https://localhost:8080/"
        },
        "id": "ucyeuOAZxUiF",
        "outputId": "8b79b1e1-6fc5-4bbd-f460-2b04a9a6914f"
      },
      "execution_count": 14,
      "outputs": [
        {
          "output_type": "execute_result",
          "data": {
            "text/plain": [
              "7"
            ]
          },
          "metadata": {},
          "execution_count": 14
        }
      ]
    },
    {
      "cell_type": "code",
      "source": [
        "# Total UNPAID vine\n",
        "total_unpaid_reviews = vote_count_greater50.filter (\"vine == 'N'\")\n",
        "total_unpaid_reviews_count = total_unpaid_reviews.count()\n",
        "total_unpaid_reviews_count"
      ],
      "metadata": {
        "colab": {
          "base_uri": "https://localhost:8080/"
        },
        "id": "UrxnxgN_xXI4",
        "outputId": "3bb5b1bb-c30c-4654-fd0b-3c7863e69615"
      },
      "execution_count": 24,
      "outputs": [
        {
          "output_type": "execute_result",
          "data": {
            "text/plain": [
              "105962"
            ]
          },
          "metadata": {},
          "execution_count": 24
        }
      ]
    },
    {
      "cell_type": "code",
      "source": [
        "# Total 5-star reviews\n",
        "total_5star_reviews = vote_count_greater50.filter(\"star_rating == 5\")\n",
        "total_5star_reviews_count = total_5star_reviews.count()\n",
        "total_5star_reviews_count"
      ],
      "metadata": {
        "colab": {
          "base_uri": "https://localhost:8080/"
        },
        "id": "LCEPpP5UxZDl",
        "outputId": "5b80d985-b8c4-4e1d-a238-7a5420138e42"
      },
      "execution_count": 16,
      "outputs": [
        {
          "output_type": "execute_result",
          "data": {
            "text/plain": [
              "67568"
            ]
          },
          "metadata": {},
          "execution_count": 16
        }
      ]
    },
    {
      "cell_type": "code",
      "source": [
        "# Total PAID 5-star Vine\n",
        "paid_5star_reviews = total_paid_reviews.filter(\"star_rating == 5\")\n",
        "paid_5star_reviews_count = paid_5star_reviews.count()\n",
        "paid_5star_reviews_count"
      ],
      "metadata": {
        "colab": {
          "base_uri": "https://localhost:8080/"
        },
        "id": "jR715tK-xa_q",
        "outputId": "a30393e6-4029-428e-a4b2-38331cb207d1"
      },
      "execution_count": 18,
      "outputs": [
        {
          "output_type": "execute_result",
          "data": {
            "text/plain": [
              "0"
            ]
          },
          "metadata": {},
          "execution_count": 18
        }
      ]
    },
    {
      "cell_type": "code",
      "source": [
        "# Total UNPAID 5-star vine\n",
        "unpaid_5star_reviews = total_unpaid_reviews.filter(\"star_rating < 5\")\n",
        "unpaid_5star_reviews_count = unpaid_5star_reviews.count()\n",
        "unpaid_5star_reviews_count"
      ],
      "metadata": {
        "colab": {
          "base_uri": "https://localhost:8080/"
        },
        "id": "2ryzWdk4xhBe",
        "outputId": "2b016366-d4bb-47c8-e8fa-be1cb8b46692"
      },
      "execution_count": 19,
      "outputs": [
        {
          "output_type": "execute_result",
          "data": {
            "text/plain": [
              "38394"
            ]
          },
          "metadata": {},
          "execution_count": 19
        }
      ]
    },
    {
      "cell_type": "code",
      "source": [
        "# 5-Star PAID reviews % of total vine\n",
        "paid_5star_per_total_paid = (paid_5star_reviews_count/total_paid_reviews_count) * 100 \n",
        "round(paid_5star_per_total_paid, 2)"
      ],
      "metadata": {
        "colab": {
          "base_uri": "https://localhost:8080/"
        },
        "id": "8v6UkERHxjle",
        "outputId": "0bc538d1-a7d6-4cb7-bac1-26b350c0d61e"
      },
      "execution_count": 20,
      "outputs": [
        {
          "output_type": "execute_result",
          "data": {
            "text/plain": [
              "0.0"
            ]
          },
          "metadata": {},
          "execution_count": 20
        }
      ]
    },
    {
      "cell_type": "code",
      "source": [
        "# PAID reviews as % total 5-star reviews\n",
        "paid_5star_per_total_5star = (paid_5star_reviews_count/total_5star_reviews_count) * 100\n",
        "round(paid_5star_per_total_5star, 2)"
      ],
      "metadata": {
        "colab": {
          "base_uri": "https://localhost:8080/"
        },
        "id": "WYdGK3BQxlvv",
        "outputId": "2a8b3180-ba52-46b3-e229-61d84275fe09"
      },
      "execution_count": 21,
      "outputs": [
        {
          "output_type": "execute_result",
          "data": {
            "text/plain": [
              "0.0"
            ]
          },
          "metadata": {},
          "execution_count": 21
        }
      ]
    },
    {
      "cell_type": "code",
      "source": [
        "# UNPAID 5-star reviews as % total unpaid reviews\n",
        "unpaid_5star_per_total_unpaid = (unpaid_5star_reviews_count/total_unpaid_reviews_count) * 100\n",
        "round(unpaid_5star_per_total_unpaid, 3)"
      ],
      "metadata": {
        "colab": {
          "base_uri": "https://localhost:8080/"
        },
        "id": "8uPJbD_CxnRx",
        "outputId": "a493a71f-d081-4b5b-b3c1-7ab763939ef3"
      },
      "execution_count": 22,
      "outputs": [
        {
          "output_type": "execute_result",
          "data": {
            "text/plain": [
              "36.234"
            ]
          },
          "metadata": {},
          "execution_count": 22
        }
      ]
    },
    {
      "cell_type": "code",
      "source": [
        "# UNPAID 5-star reviews as % total 5-star reviews\n",
        "unpaid_5star_per_total_5star = (unpaid_5star_reviews_count/total_5star_reviews_count) * 100\n",
        "round(unpaid_5star_per_total_5star, 3)"
      ],
      "metadata": {
        "colab": {
          "base_uri": "https://localhost:8080/"
        },
        "id": "4mthWHRFxo5D",
        "outputId": "20cf5e5c-90da-462b-fdc1-e2ff65a97575"
      },
      "execution_count": 23,
      "outputs": [
        {
          "output_type": "execute_result",
          "data": {
            "text/plain": [
              "56.823"
            ]
          },
          "metadata": {},
          "execution_count": 23
        }
      ]
    }
  ]
}